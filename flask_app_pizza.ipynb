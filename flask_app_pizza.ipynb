{
  "nbformat": 4,
  "nbformat_minor": 0,
  "metadata": {
    "colab": {
      "name": "flask_app_pizza.ipynb",
      "provenance": [],
      "collapsed_sections": []
    },
    "kernelspec": {
      "display_name": "Python 3",
      "name": "python3"
    },
    "language_info": {
      "name": "python"
    }
  },
  "cells": [
    {
      "cell_type": "markdown",
      "metadata": {
        "id": "qicPg4qFprG9"
      },
      "source": [
        "# Initial Examples"
      ]
    },
    {
      "cell_type": "markdown",
      "metadata": {
        "id": "lhi8S5XdtXR1"
      },
      "source": [
        "## **1. Using the print statement and variables**\n",
        "The print statement is used to display any value or sentence that you assign. To print a statement, you write 'print' with parentheses containing the content. There are 3 ways to print information: with a string of characters, using variables, and a combination of string and variables. Note that in order to incorporate variables and a string of characters, there needs to be an 'f' in the parentheses and the variable has curly-cew brackets around the values.  "
      ]
    },
    {
      "cell_type": "code",
      "metadata": {
        "id": "SZSdPGZfp4TV"
      },
      "source": [
        "print(\"Hello World!\")"
      ],
      "execution_count": null,
      "outputs": []
    },
    {
      "cell_type": "code",
      "metadata": {
        "id": "ZGq3l_uvTIuM"
      },
      "source": [
        "champagne_bucket = 1\n",
        "print(champagne_bucket)"
      ],
      "execution_count": null,
      "outputs": []
    },
    {
      "cell_type": "code",
      "metadata": {
        "id": "5OHtfX05tq_c"
      },
      "source": [
        "champagne_bucket= 1\n",
        "print(f\"The volume of champagne: {champagne_bucket} liters\")"
      ],
      "execution_count": null,
      "outputs": []
    },
    {
      "cell_type": "markdown",
      "metadata": {
        "id": "IaaF7__2uLDD"
      },
      "source": [
        "## **2. Use of data types**\n",
        "We use different kinds of data types to suit our needs. Below mentioned are the 4 major data types.\n"
      ]
    },
    {
      "cell_type": "code",
      "metadata": {
        "id": "gHcLWSziuF5Y"
      },
      "source": [
        "int_example = 10 // a positive or negative value with decimals\n",
        "float_example = 1.592 // a positive or negative value with decimals\n",
        "char_example = 'A' // a character\n",
        "string_example = 'This is a sentence.' // a string of characters (we just shortform that to string) \n",
        "\n",
        "print(f\"The value of example is {float_example}\")"
      ],
      "execution_count": null,
      "outputs": []
    },
    {
      "cell_type": "markdown",
      "metadata": {
        "id": "Z0FLpQs6TDoR"
      },
      "source": [
        "## **3. Conversion of data types**\n",
        "\n",
        "Upon conversion from float to integer type, the non-decimal part is taken as the integer. It does not follow the classic rounding-off theory"
      ]
    },
    {
      "cell_type": "code",
      "metadata": {
        "id": "2gQ2w_WTTLln"
      },
      "source": [
        "converted_int = int(float_example)\n",
        "print(\"Converted float_example to integer:\",converted_int)\n",
        "char_example = '123'\n",
        "print(\"Converted char_example to integer:\", int(char_example))"
      ],
      "execution_count": null,
      "outputs": []
    },
    {
      "cell_type": "markdown",
      "metadata": {
        "id": "PD6SaFABvU0i"
      },
      "source": [
        "## **3. Use of Lists**"
      ]
    },
    {
      "cell_type": "markdown",
      "metadata": {
        "id": "gVJgAWUEEBOB"
      },
      "source": [
        "***Here we define the shopping list***\n",
        "\n",
        "Assume the shopping list contains our daily requirements. Here we maintain a list of items to be bought. We can add and remove items as required."
      ]
    },
    {
      "cell_type": "code",
      "metadata": {
        "id": "rKMtKqbvvZ-Z"
      },
      "source": [
        "list_example = ['eggs','potatoes','cereal']\n",
        "print(list_example)"
      ],
      "execution_count": null,
      "outputs": []
    },
    {
      "cell_type": "markdown",
      "metadata": {
        "id": "oduoCEyEEPyV"
      },
      "source": [
        "***Let us add another item to the shopping list***"
      ]
    },
    {
      "cell_type": "code",
      "metadata": {
        "id": "ZdhtQye6vm31"
      },
      "source": [
        "list_example.append('bacon')\n",
        "print(list_example)"
      ],
      "execution_count": null,
      "outputs": []
    },
    {
      "cell_type": "markdown",
      "metadata": {
        "id": "7X9AnoMeEbas"
      },
      "source": [
        "***Turns out we have eggs at home and we don't need it to be on the shopping list***"
      ]
    },
    {
      "cell_type": "code",
      "metadata": {
        "id": "guMZSi8wvsha"
      },
      "source": [
        "list_example.remove('eggs')\n",
        "print(list_example)"
      ],
      "execution_count": null,
      "outputs": []
    },
    {
      "cell_type": "markdown",
      "metadata": {
        "id": "qYPBQ8qdv1kh"
      },
      "source": [
        "## **4. Use of Dictionaries**"
      ]
    },
    {
      "cell_type": "markdown",
      "metadata": {
        "id": "Yn_FDBHaEuxU"
      },
      "source": [
        "***Here we define the dictionary, just like the real one and print the meaning of the word Noun***\n",
        "\n",
        "Dictionaries are analogous form of data storage. It contains one 'key' which is associated with a 'value'. The word here is the 'key' and the meaning of the word is 'value'."
      ]
    },
    {
      "cell_type": "code",
      "metadata": {
        "id": "HRpr9ao8wG8N"
      },
      "source": [
        "dict_example = {'Noun':'A word used to identify any of a class of people, places, or things ','Verb':'a word used to describe an action, state, or occurrence, and forming the main part of the predicate of a sentence, such as hear, become, happen.','Adjective':'A word naming an attribute of a noun, such as sweet, red, or technical'}\n",
        "print(dict_example['Noun'])"
      ],
      "execution_count": null,
      "outputs": []
    },
    {
      "cell_type": "markdown",
      "metadata": {
        "id": "OcnKaarDHBIF"
      },
      "source": [
        "*Let us print the dictionary*"
      ]
    },
    {
      "cell_type": "code",
      "metadata": {
        "id": "UP_P8_TqwaWO"
      },
      "source": [
        "print(dict_example)"
      ],
      "execution_count": null,
      "outputs": []
    },
    {
      "cell_type": "markdown",
      "metadata": {
        "id": "neP5eRkxwqFN"
      },
      "source": [
        "## **5. Use of the if statement**\n",
        "\n",
        "\n",
        "\n",
        "We take the input form the user and place it in a variable called 'outside'. Based on what is contained in the variable 'outside', i.e. If the weather outside is hot, we print, I want a cold beverage, If the weather outside is cold, we print, I want a hot beverage.\n",
        "\n",
        "\n",
        "\n"
      ]
    },
    {
      "cell_type": "code",
      "metadata": {
        "id": "DjMAKpU0woyf"
      },
      "source": [
        "outside = input()\n",
        "if outside == 'hot':\n",
        "  print('I want a cold beverage')\n",
        "elif outside == 'cold':\n",
        "  print('I want a hot beverage')"
      ],
      "execution_count": null,
      "outputs": []
    },
    {
      "cell_type": "markdown",
      "metadata": {
        "id": "yddSKfyXxn3F"
      },
      "source": [
        "## 6. Use of loops"
      ]
    },
    {
      "cell_type": "markdown",
      "metadata": {
        "id": "1qfsR0ZjOVaD"
      },
      "source": [
        "**Here we let the loop run 10 times**\n",
        "\n",
        "'var' is the increment counter. In both the loop types, we allow the varibale 'var' to range from 0-9. The progression of the var variable is understood with the print statement."
      ]
    },
    {
      "cell_type": "code",
      "metadata": {
        "id": "Cla1CkkJx0g3"
      },
      "source": [
        "var = 0\n",
        "while var<10:\n",
        "  print(var)\n",
        "  var = var+1"
      ],
      "execution_count": null,
      "outputs": []
    },
    {
      "cell_type": "code",
      "metadata": {
        "id": "tdg0YQ10yMFC"
      },
      "source": [
        "for var in range(0,10):\n",
        "  print(var)"
      ],
      "execution_count": null,
      "outputs": []
    },
    {
      "cell_type": "markdown",
      "metadata": {
        "id": "3_roTWpFyY0G"
      },
      "source": [
        "## **7. Use of functions**\n",
        "\n",
        "\n",
        "'def' is a keyword that starts of the definition of the function, 'add' is the name of the function, a and b are function parameters that will be operated on inside the function 'return' keyword sends the output onto where the function is called.\n",
        "\n"
      ]
    },
    {
      "cell_type": "code",
      "metadata": {
        "id": "Jvq4yrYtye4L"
      },
      "source": [
        "def add(a,b):\n",
        "  return a+b\n",
        "\n",
        "sum = add(5,1)\n",
        "print(sum)"
      ],
      "execution_count": null,
      "outputs": []
    },
    {
      "cell_type": "markdown",
      "metadata": {
        "id": "Syyv_O_IJplE"
      },
      "source": [
        "## **8. Pip install example**\n",
        "We use the pip package to install the pandas, numpy and matplotlib libraries\n",
        "\n",
        "The '!' symbol is used to tell the notebook to run a shell command "
      ]
    },
    {
      "cell_type": "code",
      "metadata": {
        "id": "GpIzkixTQQ6-"
      },
      "source": [
        "!pip install pandas\n",
        "!pip install numpy\n",
        "!pip install matplotlib "
      ],
      "execution_count": null,
      "outputs": []
    },
    {
      "cell_type": "markdown",
      "metadata": {
        "id": "keB8ppaopWb3"
      },
      "source": [
        "#Flask App Example"
      ]
    },
    {
      "cell_type": "markdown",
      "metadata": {
        "id": "4NEXhhMwyxTt"
      },
      "source": [
        "## ***Here we install the 'flask-ngrok' library which helps us create a server and deploy it on the ngrok platform***\n",
        "\n",
        "flask is a python library that is a basic backend framework. It allows the hosting of webapps with the help of a python code base."
      ]
    },
    {
      "cell_type": "code",
      "metadata": {
        "id": "LPktWxZn6qjK"
      },
      "source": [
        "!pip install flask-ngrok"
      ],
      "execution_count": null,
      "outputs": []
    },
    {
      "cell_type": "markdown",
      "metadata": {
        "id": "xjcVuBGrzFLQ"
      },
      "source": [
        "***We download the repository containing the flask app code***\n"
      ]
    },
    {
      "cell_type": "code",
      "metadata": {
        "id": "z7wFm2Vu6wU-"
      },
      "source": [
        "!git clone https://github.com/H10AI/PythonCrashCourse-PizzaPricePrediction.git"
      ],
      "execution_count": null,
      "outputs": []
    },
    {
      "cell_type": "markdown",
      "metadata": {
        "id": "kPSrdJbBY4g9"
      },
      "source": [
        "## ***Note***: \n",
        "1.   Upload the 'index.html' and 'Pizza-Price.csv' files from the github link that was provided.\n",
        "2. Drag and drop 'Pizza-Price.csv' into the Files section of google colab.\n",
        "3.  In the Files section of Colab, right-click and create a new folder, name it 'templates'.\n",
        "4. Drag and drop the 'index.html' file into the templates folder.\n",
        "5. Continue to the next code snippet\n"
      ]
    },
    {
      "cell_type": "markdown",
      "metadata": {
        "id": "5tjCUIoZLEji"
      },
      "source": [
        "## ***Task 1: Write code to convert takka to CAD***"
      ]
    },
    {
      "cell_type": "code",
      "metadata": {
        "id": "AkC5TnRSLChz"
      },
      "source": [
        "def convert_to_cad(price):\n",
        "    #add conversion code here\n",
        "    return price"
      ],
      "execution_count": null,
      "outputs": []
    },
    {
      "cell_type": "markdown",
      "metadata": {
        "id": "BxMXxOp_zss4"
      },
      "source": [
        "***The web app is hosted on the ngrok platform, click the ngrok link to interact with the web app***"
      ]
    },
    {
      "cell_type": "code",
      "metadata": {
        "id": "lAHdAnZn67hk"
      },
      "source": [
        "from flask import Flask, request, render_template\n",
        "import pickle\n",
        "import numpy as np\n",
        "from flask_ngrok import run_with_ngrok\n",
        "filename = '/content/PythonCrashCourse-PizzaPricePrediction/pizza_price_final.sav'\n",
        "app = Flask(__name__)\n",
        "run_with_ngrok(app)\n",
        "\n",
        "def get_pred_price(loaded_model,inch,restau,cheese,musroom,spicy):\n",
        "    hotel={'A':1,'B':2,'C':3,'D':4,'E':5,'F':6,'G':7,'H':8,'I':9,'J':10,'K':11,'L':12,'M':13,'N':14,'O':15,'P':16,'Q':17,'R':18,'S':19,'T':20}\n",
        "    param=[inch,0,0,0,0,0,0,0,0,0,0,0,0,0,0,0,0,0,0,0,0,cheese,musroom,spicy]\n",
        "    if restau in hotel.keys():\n",
        "        param[hotel[restau]]=1\n",
        "    price=loaded_model.predict([np.array(param)])\n",
        "    return price\n",
        "\n",
        "loaded_model = pickle.load(open(filename, 'rb'))\n",
        "\n",
        "\n",
        "\n",
        "predict = 0\n",
        "restuarant = 'None'\n",
        "yesno = {'yes':1,'no':0}\n",
        "@app.route('/', methods=['POST','GET'])\n",
        "def my_form_post():\n",
        "    global predict\n",
        "    global restuarant\n",
        "    error = \"\"\n",
        "    if request.method == 'GET':\n",
        "        # Form being submitted; grab data from form.\n",
        "        if request.args:\n",
        "            size = request.args.get('Size')\n",
        "            restuarant = request.args.get('Restuarant')\n",
        "            extr_cheese = yesno[request.args.get('extr_cheese')]\n",
        "            extr_mushroom = yesno[request.args.get('extr_mushroom')]\n",
        "            extr_spicy = yesno[request.args.get('extr_spicy')]\n",
        "        \n",
        "        #print(size,restuarant,extr_cheese,extr_mushroom,extr_spicy\n",
        "            price = get_pred_price(loaded_model,size,restuarant,extr_cheese,extr_mushroom,extr_spicy)\n",
        "            predict = price[0]\n",
        "            predict = convert_to_cad(price)\n",
        "        print(predict)\n",
        "    # Render the sign-up page\n",
        "    return render_template('index.html', prediction_text='Price of the Pizza from Restaurant {} is $ {}'.format(restuarant,predict))\n",
        "\n",
        "if __name__ == \"__main__\":\n",
        "    app.run()"
      ],
      "execution_count": null,
      "outputs": []
    },
    {
      "cell_type": "markdown",
      "metadata": {
        "id": "makFeoxOpfrl"
      },
      "source": [
        "# Data Vizualisation"
      ]
    },
    {
      "cell_type": "code",
      "metadata": {
        "id": "VSyk64177IYu"
      },
      "source": [
        "from google.colab import files\n",
        "files.upload()"
      ],
      "execution_count": null,
      "outputs": []
    },
    {
      "cell_type": "code",
      "metadata": {
        "id": "Fgp0F0Co-Rny"
      },
      "source": [
        "import pandas as pd\n",
        "from matplotlib import pyplot as plt\n",
        "df = pd.read_csv('Pizza-Price.csv')\n",
        "df"
      ],
      "execution_count": null,
      "outputs": []
    },
    {
      "cell_type": "code",
      "metadata": {
        "id": "fWX-eDT2xNmY"
      },
      "source": [
        "#Price vs Size\n",
        "\n",
        "x = df[' Size by Inch']\n",
        "y = df['Price']\n",
        "plt.scatter(x,y)\n",
        "plt.show()"
      ],
      "execution_count": null,
      "outputs": []
    },
    {
      "cell_type": "markdown",
      "metadata": {
        "id": "zoi3--200M0S"
      },
      "source": [
        "## ***Task 1: Display the scatter plot between Restaurants and Price***"
      ]
    },
    {
      "cell_type": "code",
      "metadata": {
        "id": "bD3lH8OcxPof"
      },
      "source": [
        "#your code here\n"
      ],
      "execution_count": 16,
      "outputs": []
    },
    {
      "cell_type": "code",
      "metadata": {
        "id": "C2SNYSFu0iDl"
      },
      "source": [
        "plt.bar(x, y)"
      ],
      "execution_count": null,
      "outputs": []
    },
    {
      "cell_type": "code",
      "metadata": {
        "id": "Kl85u7BU0lHu"
      },
      "source": [
        "df_plot = df[['Restaurant','Extra Mushroom']]\n",
        "df_plot.head()"
      ],
      "execution_count": null,
      "outputs": []
    },
    {
      "cell_type": "markdown",
      "metadata": {
        "id": "I26QgFou0rRv"
      },
      "source": [
        "***Data manipulation using pandas and the if statement***"
      ]
    },
    {
      "cell_type": "code",
      "metadata": {
        "id": "gGuLAqGT0y75"
      },
      "source": [
        "#conversion of columns\n",
        "counter=0\n",
        "for value in df['Extra Mushroom']:\n",
        "  if value == 'yes':\n",
        "    df['Extra Mushroom'][counter] = 1\n",
        "  else:\n",
        "    df['Extra Mushroom'][counter] = 0\n",
        "  counter+=1\n",
        "df['Extra Mushroom']\n",
        "    "
      ],
      "execution_count": null,
      "outputs": []
    },
    {
      "cell_type": "code",
      "metadata": {
        "id": "pq4Da71q02lC"
      },
      "source": [
        "#plot frequency\n",
        "plt.hist(df['Extra Mushroom'], bins=10)\n",
        "plt.gca().set(title='Frequency Histogram of Extra Mushroom', ylabel='Frequency');"
      ],
      "execution_count": null,
      "outputs": []
    }
  ]
}